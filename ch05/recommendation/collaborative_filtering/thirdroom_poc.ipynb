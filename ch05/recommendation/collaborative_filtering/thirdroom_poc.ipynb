{
 "cells": [
  {
   "cell_type": "code",
   "execution_count": 5,
   "id": "b8ea3a9f",
   "metadata": {
    "ExecuteTime": {
     "end_time": "2022-01-17T10:08:33.373028Z",
     "start_time": "2022-01-17T10:08:33.339030Z"
    }
   },
   "outputs": [],
   "source": [
    "from enum import Enum\n",
    "from typing import Dict, List\n",
    "import sys\n",
    "from neo4j import Transaction\n",
    "\n",
    "from util.fixed_heapq import FixedHeap\n",
    "from util.sparse_vector import cosine_similarity\n",
    "from util.graphdb_base import GraphDBBase"
   ]
  },
  {
   "cell_type": "code",
   "execution_count": 1,
   "id": "c55dd84e",
   "metadata": {
    "ExecuteTime": {
     "end_time": "2022-01-17T10:07:50.239316Z",
     "start_time": "2022-01-17T10:07:50.227319Z"
    }
   },
   "outputs": [],
   "source": [
    "from heapq import heappush, heappushpop, heappop\n",
    "\n",
    "\n",
    "class FixedHeap(object):\n",
    "    def __init__(self, capacity: int):\n",
    "        self.heap = []\n",
    "        self.capacity = capacity\n",
    "        self.counter = 0\n",
    "\n",
    "    def push(self, score, item):\n",
    "        self.counter += 1\n",
    "        # store items as max heap, removing the largest as capacity get reached\n",
    "        if len(self.heap) < self.capacity:\n",
    "            heappush(self.heap, (-score, -self.counter, item))\n",
    "        else:\n",
    "            heappushpop(self.heap, (-score, -self.counter, item))\n",
    "\n",
    "    def items(self):\n",
    "        return list(reversed([heappop(self.heap)[2] for i in range(len(self.heap))]))\n"
   ]
  },
  {
   "cell_type": "code",
   "execution_count": 2,
   "id": "591e62b7",
   "metadata": {
    "ExecuteTime": {
     "end_time": "2022-01-17T10:07:51.218502Z",
     "start_time": "2022-01-17T10:07:51.003515Z"
    }
   },
   "outputs": [],
   "source": [
    "from neo4j import GraphDatabase\n",
    "import configparser\n",
    "import os\n",
    "import sys\n",
    "import getopt\n",
    "\n",
    "help_message = '-u <neo4j username> -p <password> -s <source directory> -b <bolt uri>'\n",
    "\n",
    "neo4j_user = 'neo4j'\n",
    "neo4j_password = 'password'\n",
    "source_dataset_path = ''\n",
    "uri = 'bolt://localhost:7687'\n",
    "\n",
    "\n",
    "class GraphDBBase():\n",
    "    def __init__(self, command=None, argv=None, extended_options='', extended_long_options=[]):\n",
    "        self.uri = None\n",
    "        self.neo4j_user = None\n",
    "        self.neo4j_password = None\n",
    "        self.source_dataset_path = None\n",
    "        self.opts = {}\n",
    "        self.args = []\n",
    "\n",
    "        if argv:\n",
    "            self.__get_main_parameters__(command=command, argv=argv, extended_options=extended_options,\n",
    "                                         extended_long_options=extended_long_options)\n",
    "\n",
    "        config = configparser.ConfigParser()\n",
    "        config_file = os.path.join(os.path.dirname(__file__), '..', 'config.ini')\n",
    "        config.read(config_file)\n",
    "        neo4j_params = config['neo4j']\n",
    "\n",
    "        uri = self.uri or os.getenv('NEO4J_URI') or neo4j_params.get('uri', 'bolt://localhost:7687')\n",
    "        user = self.neo4j_user or os.getenv('NEO4J_USER') or neo4j_params.get('user', 'neo4j')\n",
    "        password = self.neo4j_password or os.getenv('NEO4J_PASSWORD') or neo4j_params.get('password', 'password')\n",
    "        ignored_params = {'uri', 'user', 'password'}\n",
    "        param_converters = {'encrypted': lambda x: int(x)}\n",
    "\n",
    "        def maybe_convert(key: str, value: str):\n",
    "            if key in param_converters:\n",
    "                return param_converters[key](value)\n",
    "            return value\n",
    "\n",
    "        other_params = dict([(key, maybe_convert(key, value)) for key, value in neo4j_params.items()\n",
    "                             if key not in ignored_params])\n",
    "        # print(other_params)\n",
    "\n",
    "        self._driver = GraphDatabase.driver(uri, auth=(user, password), **other_params)\n",
    "        self._session = None\n",
    "\n",
    "    def get_opts(self):\n",
    "        return self.opts\n",
    "\n",
    "    def get_option(self, options: list, default = None):\n",
    "        for opt, arg in self.opts:\n",
    "            if opt in options:\n",
    "                return arg\n",
    "\n",
    "        return default\n",
    "\n",
    "    def close(self):\n",
    "        self._driver.close()\n",
    "\n",
    "    def get_session(self):\n",
    "        return self._driver.session()\n",
    "\n",
    "    def execute_without_exception(self, query: str):\n",
    "        try:\n",
    "            self.get_session().run(query)\n",
    "        except Exception as e:\n",
    "            pass\n",
    "\n",
    "    def executeNoException(self, session, query: str):\n",
    "        try:\n",
    "            session.run(query)\n",
    "        except Exception as e:\n",
    "            pass\n",
    "\n",
    "    def __get_main_parameters__(self, command, argv, extended_options='', extended_long_options=[]):\n",
    "        try:\n",
    "            self.opts, self.args = getopt.getopt(argv, 'hu:p:s:b:' + extended_options,\n",
    "                                       ['help', 'neo4j-user=', 'neo4j-password=', 'source-path=',\n",
    "                                        'bolt='] + extended_long_options)\n",
    "        except getopt.GetoptError as e:\n",
    "            print(e)\n",
    "            print(command, help_message)\n",
    "            sys.exit(2)\n",
    "        for opt, arg in self.opts:\n",
    "            if opt == '-h':\n",
    "                print(command, help_message)\n",
    "                sys.exit()\n",
    "            elif opt in (\"-u\", \"--neo4j-user\"):\n",
    "                self.neo4j_user = arg\n",
    "            elif opt in (\"-p\", \"--neo4j-password\"):\n",
    "                self.neo4j_password = arg\n",
    "            elif opt in (\"-s\", \"--source-path\"):\n",
    "                self.source_dataset_path = arg\n",
    "            elif opt in (\"-b\", \"--bolt\"):\n",
    "                self.uri = arg\n"
   ]
  },
  {
   "cell_type": "code",
   "execution_count": 3,
   "id": "40fb4266",
   "metadata": {
    "ExecuteTime": {
     "end_time": "2022-01-17T10:07:51.654215Z",
     "start_time": "2022-01-17T10:07:51.619222Z"
    }
   },
   "outputs": [
    {
     "name": "stdout",
     "output_type": "stream",
     "text": [
      "{0: 1, 3: 1}\n",
      "{0: 1, 1: 1}\n",
      "{0: 1, 1: 1, 5: 1}\n"
     ]
    }
   ],
   "source": [
    "import math\n",
    "\n",
    "def convert_sparse_vector(numbers):\n",
    "    vector_dict = {}\n",
    "    for k, c in enumerate(numbers):\n",
    "        if c:\n",
    "            vector_dict[k] = c\n",
    "    return vector_dict\n",
    "\n",
    "def cosine_similarity(vectA, vectB):\n",
    "    a = dot(vectA, vectB);\n",
    "    b = norm(vectA) * norm(vectB);\n",
    "    if b > 0:\n",
    "        return a / b;\n",
    "    else:\n",
    "        return 0\n",
    "\n",
    "\n",
    "def dot(vect_a, vect_b):\n",
    "    if vect_a is None \\\n",
    "            or vect_b is None\\\n",
    "            or len(vect_a) == 0 \\\n",
    "            or len(vect_b) == 0:\n",
    "        return 0\n",
    "\n",
    "    dot_value = 0.0\n",
    "    x_index = 0\n",
    "    y_index = 0\n",
    "\n",
    "    while True:\n",
    "        if vect_a[x_index] == vect_b[y_index]:\n",
    "            dot_value += 1\n",
    "            x_index += 1\n",
    "            y_index += 1\n",
    "        elif vect_a[x_index] > vect_b[y_index]:\n",
    "            y_index += 1\n",
    "        else:\n",
    "            x_index += 1\n",
    "\n",
    "        if x_index == len(vect_a) or y_index == len(vect_b):\n",
    "            break\n",
    "\n",
    "    return dot_value\n",
    "\n",
    "\n",
    "def norm(vect):\n",
    "    return math.sqrt(dot(vect, vect))\n",
    "\n",
    "\n",
    "if __name__ == '__main__':\n",
    "    print(convert_sparse_vector([1,0,0,1,0,0])) #{0: 1, 3: 1}\n",
    "    print(convert_sparse_vector([1, 1, 0, 0, 0, 0])) #{0: 1, 1: 1}\n",
    "    print(convert_sparse_vector([1, 1, 0, 0, 0, 1])) #{0: 1, 1: 1, 5: 1}"
   ]
  },
  {
   "cell_type": "code",
   "execution_count": 6,
   "id": "2f5e39a4",
   "metadata": {
    "ExecuteTime": {
     "end_time": "2022-01-17T10:08:37.608889Z",
     "start_time": "2022-01-17T10:08:37.547894Z"
    }
   },
   "outputs": [],
   "source": [
    "class BaseRecommender(GraphDBBase):\n",
    "    label = None\n",
    "    property = None\n",
    "    sparse_vector_query = None\n",
    "    score_query = None\n",
    "\n",
    "    def __init__(self, argv):\n",
    "        super().__init__(command=__file__, argv=argv)\n",
    "\n",
    "    def compute_and_store_KNN(self, size: int) -> None:\n",
    "        print(\"fetching vectors\")\n",
    "        vectors = self.get_vectors()\n",
    "        print(f\"computing KNN for {len(vectors)} vectors\")\n",
    "        for i, (key, vector) in enumerate(vectors.items()):\n",
    "            # index only vectors\n",
    "            vector = sorted(vector.keys())\n",
    "            knn = FixedHeap(size)\n",
    "            for (other_key, other_vector) in vectors.items():\n",
    "                if key != other_key:\n",
    "                    # index only vectors\n",
    "                    other_vector = sorted(other_vector.keys())\n",
    "                    score = cosine_similarity(vector, other_vector)\n",
    "                    if score > 0:\n",
    "                        knn.push(score, {\"secondNode\": other_key, \"similarity\": score})\n",
    "            self.store_KNN(key, knn.items())\n",
    "            if (i % 1000 == 0) and i > 0:\n",
    "                print(f\"{i} vectors processed...\")\n",
    "        print(\"KNN computation done\")\n",
    "\n",
    "    def get_vectors(self) -> Dict:\n",
    "        with self._driver.session() as session:\n",
    "            tx = session.begin_transaction()\n",
    "            ids = self.get_elements(tx)\n",
    "            vectors = {id_: self.get_sparse_vector(tx, id_) for id_ in ids}\n",
    "        return vectors\n",
    "\n",
    "    def get_elements(self, tx) -> List[str]:\n",
    "        query = f\"MATCH (u:{self.label}) RETURN u.{self.property} as id\"\n",
    "        result = tx.run(query).value()\n",
    "        return result\n",
    "\n",
    "    def get_sparse_vector(self, tx: Transaction, current_id: str) -> Dict[int, float]:\n",
    "        params = {\"id\": current_id}\n",
    "        result = tx.run(self.sparse_vector_query, params)\n",
    "        return dict(result.values())\n",
    "\n",
    "    def store_KNN(self, key: str, sims: List[Dict]) -> None:\n",
    "        deleteQuery = f\"\"\"\n",
    "            MATCH (n:{self.label})-[s:SIMILARITY]->()\n",
    "            WHERE n.{self.property} = $id\n",
    "            DELETE s\"\"\"\n",
    "\n",
    "        query = f\"\"\"\n",
    "            MATCH (n:{self.label}) \n",
    "            WHERE n.{self.property} = $id \n",
    "            UNWIND $sims as sim\n",
    "            MATCH (o:{self.label}) \n",
    "            WHERE o.{self.property} = sim.secondNode \n",
    "            CREATE (n)-[s:SIMILARITY {{ value: toFloat(sim.similarity) }}]->(o)\"\"\"\n",
    "\n",
    "        with self._driver.session() as session:\n",
    "            tx = session.begin_transaction()\n",
    "            params = {\n",
    "                \"id\": key,\n",
    "                \"sims\": sims}\n",
    "            tx.run(deleteQuery, params)\n",
    "            tx.run(query, params)\n",
    "            tx.commit()\n",
    "\n",
    "    def get_recommendations(self, user_id: str, size: int) -> List[int]:\n",
    "        not_seen_yet_items = self.get_not_seen_yet_items(user_id)\n",
    "        recommendations = FixedHeap(size)\n",
    "        for item in not_seen_yet_items:\n",
    "            score = self.get_score(user_id, item)\n",
    "            recommendations.push(score, item)\n",
    "        return recommendations.items()\n",
    "\n",
    "    def get_not_seen_yet_items(self, user_id: str) -> List[int]:\n",
    "        query = \"\"\"\n",
    "                MATCH (user:User {userId:$userId})\n",
    "                WITH user\n",
    "                MATCH (item:Item)\n",
    "                WHERE NOT EXISTS((user)-[:PURCHASES]->(item))\n",
    "                return item.itemId\n",
    "        \"\"\"\n",
    "        with self._driver.session() as session:\n",
    "            tx = session.begin_transaction()\n",
    "            params = {\"userId\": user_id}\n",
    "            result = tx.run(query, params).value()\n",
    "        return result\n",
    "\n",
    "    def get_score(self, user_id: str, item_id: str) -> float:\n",
    "        with self._driver.session() as session:\n",
    "            tx = session.begin_transaction()\n",
    "            params = {\"userId\": user_id, \"itemId\": item_id}\n",
    "            result = tx.run(self.score_query, params)\n",
    "            result = result.value() + [0.0]\n",
    "        return result[0]\n",
    "\n",
    "\n",
    "class UserRecommender(BaseRecommender):\n",
    "    label = \"User\"\n",
    "    property = \"userId\"\n",
    "    sparse_vector_query = \"\"\"\n",
    "        MATCH (u:User {userId: $id})-[:PURCHASES]->(i:Item)\n",
    "        return id(i) as index, 1.0 as value\n",
    "        order by index\n",
    "    \"\"\"\n",
    "    score_query = \"\"\"\n",
    "        MATCH (user:User)-[:SIMILARITY]->(otherUser:User)\n",
    "        WHERE user.userId = $userId\n",
    "        WITH otherUser, count(otherUser) as size\n",
    "        MATCH (otherUser)-[r:PURCHASES]->(target:Target)\n",
    "        WHERE target.itemId = $itemId\n",
    "        return (+1.0/size)*count(r) as score\n",
    "    \"\"\"\n",
    "\n",
    "    def __init__(self, argv):\n",
    "        super().__init__(argv=argv)\n",
    "\n",
    "\n",
    "class ItemRecommender(BaseRecommender):\n",
    "    label = \"User\"\n",
    "    property = \"userId\"\n",
    "    sparse_vector_query = \"\"\"\n",
    "        MATCH (u:User )-[:PURCHASES]->(i:Item {itemId: $id})\n",
    "        return id(u) as index, 1.0 as value\n",
    "        order by index\n",
    "    \"\"\"\n",
    "    score_query = \"\"\"\n",
    "        MATCH (user:User)-[:PURCHASES]->(item:Item)-[r:SIMILARITY]->(target:Item)\n",
    "        WHERE user.userId = $userId AND target.itemId = $itemId\n",
    "        return sum(r.value) as score\n",
    "    \"\"\"\n",
    "\n",
    "    def __init__(self, argv):\n",
    "        super().__init__(argv=argv)\n",
    "\n",
    "\n",
    "class Recommender(GraphDBBase):\n",
    "    class KNNType(Enum):\n",
    "        USER = 1\n",
    "        ITEM = 2\n",
    "\n",
    "    def __init__(self, argv):\n",
    "        super().__init__(command=__file__, argv=argv)\n",
    "        self.strategies: Dict[Recommender.KNNType, BaseRecommender] = {\n",
    "            Recommender.KNNType.USER: UserRecommender(argv),\n",
    "            Recommender.KNNType.ITEM: ItemRecommender(argv)\n",
    "        }\n",
    "\n",
    "    def compute_and_store_KNN(self, type_: KNNType) -> None:\n",
    "        strategy = self.strategies[type_]\n",
    "        strategy.compute_and_store_KNN(20)\n",
    "\n",
    "    def clean_KNN(self):\n",
    "        print(\"cleaning previously computed KNNs\")\n",
    "        delete_query = \"MATCH p=()-[r:SIMILARITY]->() DELETE r\"\n",
    "        with self._driver.session() as session:\n",
    "            tx = session.begin_transaction()\n",
    "            tx.run(delete_query)\n",
    "            tx.commit()\n",
    "\n",
    "    def get_recommendations(self, user_id: str, size: int, type_: KNNType):\n",
    "        strategy = self.strategies[type_]\n",
    "        return strategy.get_recommendations(user_id, size)\n",
    "\n"
   ]
  },
  {
   "cell_type": "code",
   "execution_count": 8,
   "id": "725b2063",
   "metadata": {
    "ExecuteTime": {
     "end_time": "2022-01-17T10:08:59.040936Z",
     "start_time": "2022-01-17T10:08:58.985956Z"
    }
   },
   "outputs": [
    {
     "ename": "NameError",
     "evalue": "name '__file__' is not defined",
     "output_type": "error",
     "traceback": [
      "\u001b[1;31m---------------------------------------------------------------------------\u001b[0m",
      "\u001b[1;31mNameError\u001b[0m                                 Traceback (most recent call last)",
      "\u001b[1;32m~\\AppData\\Local\\Temp/ipykernel_34152/126060507.py\u001b[0m in \u001b[0;36m<module>\u001b[1;34m\u001b[0m\n\u001b[0;32m     15\u001b[0m     \u001b[0mprint\u001b[0m\u001b[1;33m(\u001b[0m\u001b[0mrecommendations\u001b[0m\u001b[1;33m)\u001b[0m\u001b[1;33m\u001b[0m\u001b[1;33m\u001b[0m\u001b[0m\n\u001b[0;32m     16\u001b[0m \u001b[1;33m\u001b[0m\u001b[0m\n\u001b[1;32m---> 17\u001b[1;33m \u001b[0mmain\u001b[0m\u001b[1;33m(\u001b[0m\u001b[1;33m)\u001b[0m\u001b[1;33m\u001b[0m\u001b[1;33m\u001b[0m\u001b[0m\n\u001b[0m",
      "\u001b[1;32m~\\AppData\\Local\\Temp/ipykernel_34152/126060507.py\u001b[0m in \u001b[0;36mmain\u001b[1;34m()\u001b[0m\n\u001b[0;32m      1\u001b[0m \u001b[1;32mdef\u001b[0m \u001b[0mmain\u001b[0m\u001b[1;33m(\u001b[0m\u001b[1;33m)\u001b[0m\u001b[1;33m:\u001b[0m\u001b[1;33m\u001b[0m\u001b[1;33m\u001b[0m\u001b[0m\n\u001b[0;32m      2\u001b[0m     \u001b[1;31m# TODO: pass the user ID in the command-line\u001b[0m\u001b[1;33m\u001b[0m\u001b[1;33m\u001b[0m\u001b[0m\n\u001b[1;32m----> 3\u001b[1;33m     \u001b[0mrecommender\u001b[0m \u001b[1;33m=\u001b[0m \u001b[0mRecommender\u001b[0m\u001b[1;33m(\u001b[0m\u001b[0msys\u001b[0m\u001b[1;33m.\u001b[0m\u001b[0margv\u001b[0m\u001b[1;33m[\u001b[0m\u001b[1;36m1\u001b[0m\u001b[1;33m:\u001b[0m\u001b[1;33m]\u001b[0m\u001b[1;33m)\u001b[0m\u001b[1;33m\u001b[0m\u001b[1;33m\u001b[0m\u001b[0m\n\u001b[0m\u001b[0;32m      4\u001b[0m     \u001b[0mrecommender\u001b[0m\u001b[1;33m.\u001b[0m\u001b[0mclean_KNN\u001b[0m\u001b[1;33m(\u001b[0m\u001b[1;33m)\u001b[0m\u001b[1;33m\u001b[0m\u001b[1;33m\u001b[0m\u001b[0m\n\u001b[0;32m      5\u001b[0m     \u001b[0mrecommender\u001b[0m\u001b[1;33m.\u001b[0m\u001b[0mcompute_and_store_KNN\u001b[0m\u001b[1;33m(\u001b[0m\u001b[0mrecommender\u001b[0m\u001b[1;33m.\u001b[0m\u001b[0mKNNType\u001b[0m\u001b[1;33m.\u001b[0m\u001b[0mUSER\u001b[0m\u001b[1;33m)\u001b[0m\u001b[1;33m\u001b[0m\u001b[1;33m\u001b[0m\u001b[0m\n",
      "\u001b[1;32m~\\AppData\\Local\\Temp/ipykernel_34152/2228117517.py\u001b[0m in \u001b[0;36m__init__\u001b[1;34m(self, argv)\u001b[0m\n\u001b[0;32m    144\u001b[0m \u001b[1;33m\u001b[0m\u001b[0m\n\u001b[0;32m    145\u001b[0m     \u001b[1;32mdef\u001b[0m \u001b[0m__init__\u001b[0m\u001b[1;33m(\u001b[0m\u001b[0mself\u001b[0m\u001b[1;33m,\u001b[0m \u001b[0margv\u001b[0m\u001b[1;33m)\u001b[0m\u001b[1;33m:\u001b[0m\u001b[1;33m\u001b[0m\u001b[1;33m\u001b[0m\u001b[0m\n\u001b[1;32m--> 146\u001b[1;33m         \u001b[0msuper\u001b[0m\u001b[1;33m(\u001b[0m\u001b[1;33m)\u001b[0m\u001b[1;33m.\u001b[0m\u001b[0m__init__\u001b[0m\u001b[1;33m(\u001b[0m\u001b[0mcommand\u001b[0m\u001b[1;33m=\u001b[0m\u001b[0m__file__\u001b[0m\u001b[1;33m,\u001b[0m \u001b[0margv\u001b[0m\u001b[1;33m=\u001b[0m\u001b[0margv\u001b[0m\u001b[1;33m)\u001b[0m\u001b[1;33m\u001b[0m\u001b[1;33m\u001b[0m\u001b[0m\n\u001b[0m\u001b[0;32m    147\u001b[0m         self.strategies: Dict[Recommender.KNNType, BaseRecommender] = {\n\u001b[0;32m    148\u001b[0m             \u001b[0mRecommender\u001b[0m\u001b[1;33m.\u001b[0m\u001b[0mKNNType\u001b[0m\u001b[1;33m.\u001b[0m\u001b[0mUSER\u001b[0m\u001b[1;33m:\u001b[0m \u001b[0mUserRecommender\u001b[0m\u001b[1;33m(\u001b[0m\u001b[0margv\u001b[0m\u001b[1;33m)\u001b[0m\u001b[1;33m,\u001b[0m\u001b[1;33m\u001b[0m\u001b[1;33m\u001b[0m\u001b[0m\n",
      "\u001b[1;31mNameError\u001b[0m: name '__file__' is not defined"
     ]
    }
   ],
   "source": [
    "\n",
    "def main():\n",
    "    # TODO: pass the user ID in the command-line\n",
    "    recommender = Recommender(sys.argv[1:])\n",
    "    recommender.clean_KNN()\n",
    "    recommender.compute_and_store_KNN(recommender.KNNType.USER)\n",
    "    user_id = \"121688\"\n",
    "    print(f\"User-based recommendations for user {user_id}\")\n",
    "    recommendations = recommender.get_recommendations(user_id, 10, recommender.KNNType.USER)\n",
    "    print(recommendations)\n",
    "    recommender.clean_KNN()\n",
    "    recommender.compute_and_store_KNN(recommender.KNNType.ITEM)\n",
    "    user_id = \"121688\"\n",
    "    print(f\"Item-based recommendations for user {user_id}\")\n",
    "    recommendations = recommender.get_recommendations(user_id, 10, recommender.KNNType.ITEM)\n",
    "    print(recommendations)\n",
    "\n",
    "main()"
   ]
  },
  {
   "cell_type": "code",
   "execution_count": null,
   "id": "cda6d9d9",
   "metadata": {},
   "outputs": [],
   "source": [
    "import csv\n",
    "import time\n",
    "import os\n",
    "import sys\n",
    "\n",
    "\n",
    "from util.graphdb_base import GraphDBBase\n",
    "from util.string_util import strip\n",
    "\n",
    "\n",
    "class RetailRocketImporter(GraphDBBase):\n",
    "\n",
    "    def __init__(self, argv):\n",
    "        super().__init__(command=__file__, argv=argv)\n",
    "\n",
    "    def import_user_item(self, file):\n",
    "        with open(file, 'r+') as in_file:\n",
    "            reader = csv.reader(in_file, delimiter=',')\n",
    "            next(reader, None)\n",
    "            with self._driver.session() as session:\n",
    "                self.execute_without_exception(\"CREATE CONSTRAINT ON (u:User) ASSERT u.userId IS UNIQUE\")\n",
    "                self.execute_without_exception(\"CREATE CONSTRAINT ON (u:Item) ASSERT u.itemId IS UNIQUE\")\n",
    "\n",
    "                tx = session.begin_transaction()\n",
    "                i = 0\n",
    "                j = 0\n",
    "                query = \"\"\"\n",
    "                    MERGE (item:Item {itemId: $itemId})\n",
    "                    MERGE (user:User {userId: $userId})\n",
    "                    MERGE (user)-[:PURCHASES { timestamp: $timestamp}]->(item)\n",
    "                \"\"\"\n",
    "                for row in reader:\n",
    "                    try:\n",
    "                        if row:\n",
    "                            timestamp = strip(row[0])\n",
    "                            user_id = strip(row[1])\n",
    "                            event_type = strip(row[2])\n",
    "                            item_id = strip(row[3])\n",
    "\n",
    "                            if event_type == \"transaction\":\n",
    "                                tx.run(query, {\"itemId\": item_id, \"userId\": user_id, \"timestamp\": timestamp})\n",
    "                                i += 1\n",
    "                                j += 1\n",
    "                                if i == 1000:\n",
    "                                    tx.commit()\n",
    "                                    print(j, \"lines processed\")\n",
    "                                    i = 0\n",
    "                                    tx = session.begin_transaction()\n",
    "                    except Exception as e:\n",
    "                        print(e, row, reader.line_num)\n",
    "                tx.commit()\n",
    "                print(j, \"lines processed\")\n",
    "\n",
    "\n",
    "if __name__ == '__main__':\n",
    "    start = time.time()\n",
    "    importing = RetailRocketImporter(argv=sys.argv[1:])\n",
    "    base_path = importing.source_dataset_path\n",
    "    if not base_path:\n",
    "        base_path = \"\" #\"../../../dataset/retailrocket/\"\n",
    "    file_path = os.path.join(base_path, \"events.csv\")\n",
    "    importing.import_user_item(file=file_path)\n",
    "    end = time.time() - start\n",
    "    print(\"Time to complete:\", end)\n"
   ]
  },
  {
   "cell_type": "code",
   "execution_count": 9,
   "id": "eb76ecf0",
   "metadata": {
    "ExecuteTime": {
     "end_time": "2022-01-17T10:13:58.635227Z",
     "start_time": "2022-01-17T10:13:57.735021Z"
    }
   },
   "outputs": [],
   "source": [
    "import pandas as pd"
   ]
  },
  {
   "cell_type": "code",
   "execution_count": 15,
   "id": "3fb9196d",
   "metadata": {
    "ExecuteTime": {
     "end_time": "2022-01-17T10:16:00.908284Z",
     "start_time": "2022-01-17T10:16:00.873285Z"
    }
   },
   "outputs": [
    {
     "data": {
      "text/plain": [
       "'C:\\\\Users\\\\bgran\\\\OneDrive\\\\Pulpit\\\\Thirdroom\\\\gpml\\\\ch05\\\\recommendation\\\\collaborative_filtering'"
      ]
     },
     "execution_count": 15,
     "metadata": {},
     "output_type": "execute_result"
    }
   ],
   "source": [
    "os.getcwd()"
   ]
  },
  {
   "cell_type": "code",
   "execution_count": 17,
   "id": "378e0b10",
   "metadata": {
    "ExecuteTime": {
     "end_time": "2022-01-17T10:16:22.051556Z",
     "start_time": "2022-01-17T10:16:22.043557Z"
    }
   },
   "outputs": [],
   "source": [
    "df = pd.read_csv('bookmarks.csv')"
   ]
  },
  {
   "cell_type": "code",
   "execution_count": 32,
   "id": "6e442cfb",
   "metadata": {
    "ExecuteTime": {
     "end_time": "2022-01-17T10:27:29.928010Z",
     "start_time": "2022-01-17T10:27:29.915010Z"
    }
   },
   "outputs": [
    {
     "data": {
      "text/html": [
       "<div>\n",
       "<style scoped>\n",
       "    .dataframe tbody tr th:only-of-type {\n",
       "        vertical-align: middle;\n",
       "    }\n",
       "\n",
       "    .dataframe tbody tr th {\n",
       "        vertical-align: top;\n",
       "    }\n",
       "\n",
       "    .dataframe thead th {\n",
       "        text-align: right;\n",
       "    }\n",
       "</style>\n",
       "<table border=\"1\" class=\"dataframe\">\n",
       "  <thead>\n",
       "    <tr style=\"text-align: right;\">\n",
       "      <th></th>\n",
       "      <th>umeta_id</th>\n",
       "      <th>user_id</th>\n",
       "      <th>meta_key</th>\n",
       "      <th>meta_value</th>\n",
       "    </tr>\n",
       "  </thead>\n",
       "  <tbody>\n",
       "    <tr>\n",
       "      <th>0</th>\n",
       "      <td>770</td>\n",
       "      <td>1</td>\n",
       "      <td>bookmarked_projects</td>\n",
       "      <td>a:14:{i:0;i:218;i:1;i:224;i:2;i:494;i:3;i:259;...</td>\n",
       "    </tr>\n",
       "    <tr>\n",
       "      <th>1</th>\n",
       "      <td>771</td>\n",
       "      <td>34</td>\n",
       "      <td>bookmarked_projects</td>\n",
       "      <td>a:49:{i:0;i:224;i:1;i:218;i:2;i:216;i:4;i:259;...</td>\n",
       "    </tr>\n",
       "    <tr>\n",
       "      <th>2</th>\n",
       "      <td>795</td>\n",
       "      <td>32</td>\n",
       "      <td>bookmarked_projects</td>\n",
       "      <td>a:186:{i:0;i:241;i:2;i:609;i:4;i:668;i:5;i:772...</td>\n",
       "    </tr>\n",
       "    <tr>\n",
       "      <th>3</th>\n",
       "      <td>868</td>\n",
       "      <td>35</td>\n",
       "      <td>bookmarked_projects</td>\n",
       "      <td>a:1:{i:0;i:784;}</td>\n",
       "    </tr>\n",
       "    <tr>\n",
       "      <th>4</th>\n",
       "      <td>878</td>\n",
       "      <td>46</td>\n",
       "      <td>bookmarked_projects</td>\n",
       "      <td>a:32:{i:0;i:1150;i:1;i:1204;i:2;i:623;i:3;i:28...</td>\n",
       "    </tr>\n",
       "    <tr>\n",
       "      <th>...</th>\n",
       "      <td>...</td>\n",
       "      <td>...</td>\n",
       "      <td>...</td>\n",
       "      <td>...</td>\n",
       "    </tr>\n",
       "    <tr>\n",
       "      <th>480</th>\n",
       "      <td>26033</td>\n",
       "      <td>1188</td>\n",
       "      <td>bookmarked_projects</td>\n",
       "      <td>a:1:{i:0;i:87473;}</td>\n",
       "    </tr>\n",
       "    <tr>\n",
       "      <th>481</th>\n",
       "      <td>26034</td>\n",
       "      <td>1302</td>\n",
       "      <td>bookmarked_projects</td>\n",
       "      <td>a:1:{i:0;i:87501;}</td>\n",
       "    </tr>\n",
       "    <tr>\n",
       "      <th>482</th>\n",
       "      <td>26043</td>\n",
       "      <td>1172</td>\n",
       "      <td>bookmarked_projects</td>\n",
       "      <td>a:1:{i:0;i:87414;}</td>\n",
       "    </tr>\n",
       "    <tr>\n",
       "      <th>483</th>\n",
       "      <td>26070</td>\n",
       "      <td>1196</td>\n",
       "      <td>bookmarked_projects</td>\n",
       "      <td>a:0:{}</td>\n",
       "    </tr>\n",
       "    <tr>\n",
       "      <th>484</th>\n",
       "      <td>26073</td>\n",
       "      <td>1213</td>\n",
       "      <td>bookmarked_projects</td>\n",
       "      <td>a:1:{i:0;i:5498;}</td>\n",
       "    </tr>\n",
       "  </tbody>\n",
       "</table>\n",
       "<p>485 rows × 4 columns</p>\n",
       "</div>"
      ],
      "text/plain": [
       "     umeta_id  user_id             meta_key  \\\n",
       "0         770        1  bookmarked_projects   \n",
       "1         771       34  bookmarked_projects   \n",
       "2         795       32  bookmarked_projects   \n",
       "3         868       35  bookmarked_projects   \n",
       "4         878       46  bookmarked_projects   \n",
       "..        ...      ...                  ...   \n",
       "480     26033     1188  bookmarked_projects   \n",
       "481     26034     1302  bookmarked_projects   \n",
       "482     26043     1172  bookmarked_projects   \n",
       "483     26070     1196  bookmarked_projects   \n",
       "484     26073     1213  bookmarked_projects   \n",
       "\n",
       "                                            meta_value  \n",
       "0    a:14:{i:0;i:218;i:1;i:224;i:2;i:494;i:3;i:259;...  \n",
       "1    a:49:{i:0;i:224;i:1;i:218;i:2;i:216;i:4;i:259;...  \n",
       "2    a:186:{i:0;i:241;i:2;i:609;i:4;i:668;i:5;i:772...  \n",
       "3                                     a:1:{i:0;i:784;}  \n",
       "4    a:32:{i:0;i:1150;i:1;i:1204;i:2;i:623;i:3;i:28...  \n",
       "..                                                 ...  \n",
       "480                                 a:1:{i:0;i:87473;}  \n",
       "481                                 a:1:{i:0;i:87501;}  \n",
       "482                                 a:1:{i:0;i:87414;}  \n",
       "483                                             a:0:{}  \n",
       "484                                  a:1:{i:0;i:5498;}  \n",
       "\n",
       "[485 rows x 4 columns]"
      ]
     },
     "execution_count": 32,
     "metadata": {},
     "output_type": "execute_result"
    }
   ],
   "source": [
    "df"
   ]
  },
  {
   "cell_type": "code",
   "execution_count": 33,
   "id": "8ccfff47",
   "metadata": {
    "ExecuteTime": {
     "end_time": "2022-01-17T10:27:42.965150Z",
     "start_time": "2022-01-17T10:27:42.948152Z"
    }
   },
   "outputs": [
    {
     "data": {
      "text/plain": [
       "'a:0:{}'"
      ]
     },
     "execution_count": 33,
     "metadata": {},
     "output_type": "execute_result"
    }
   ],
   "source": [
    "df.meta_value[483]"
   ]
  },
  {
   "cell_type": "code",
   "execution_count": 30,
   "id": "a5ed136f",
   "metadata": {
    "ExecuteTime": {
     "end_time": "2022-01-17T10:25:25.805451Z",
     "start_time": "2022-01-17T10:25:25.793831Z"
    }
   },
   "outputs": [],
   "source": [
    "import re"
   ]
  },
  {
   "cell_type": "code",
   "execution_count": 36,
   "id": "62599d1a",
   "metadata": {
    "ExecuteTime": {
     "end_time": "2022-01-17T10:28:19.137946Z",
     "start_time": "2022-01-17T10:28:19.127944Z"
    }
   },
   "outputs": [
    {
     "name": "stdout",
     "output_type": "stream",
     "text": [
      "a\n"
     ]
    }
   ],
   "source": [
    "if re.findall(r'(?<=i:)\\d+', df.meta_value[0]):\n",
    "    print(\"a\")"
   ]
  },
  {
   "cell_type": "code",
   "execution_count": 49,
   "id": "079c5cbd",
   "metadata": {
    "ExecuteTime": {
     "end_time": "2022-01-17T12:12:59.726020Z",
     "start_time": "2022-01-17T12:12:59.270870Z"
    }
   },
   "outputs": [],
   "source": [
    "df_res = pd.DataFrame(columns = ['user_id', 'bookmark'])\n",
    "for index, row in df.iterrows():\n",
    "    if re.findall(r'(?<=i:)\\d+', row['meta_value']):\n",
    "        df_res = pd.concat([df_res, pd.DataFrame({\n",
    "            'user_id': row['user_id'], \n",
    "            'bookmark': re.findall(r'(?<=i:)\\d+', row['meta_value'])\n",
    "        })])"
   ]
  },
  {
   "cell_type": "code",
   "execution_count": 56,
   "id": "1ac9383f",
   "metadata": {
    "ExecuteTime": {
     "end_time": "2022-01-17T12:15:03.379822Z",
     "start_time": "2022-01-17T12:15:03.354821Z"
    }
   },
   "outputs": [
    {
     "data": {
      "text/html": [
       "<div>\n",
       "<style scoped>\n",
       "    .dataframe tbody tr th:only-of-type {\n",
       "        vertical-align: middle;\n",
       "    }\n",
       "\n",
       "    .dataframe tbody tr th {\n",
       "        vertical-align: top;\n",
       "    }\n",
       "\n",
       "    .dataframe thead th {\n",
       "        text-align: right;\n",
       "    }\n",
       "</style>\n",
       "<table border=\"1\" class=\"dataframe\">\n",
       "  <thead>\n",
       "    <tr style=\"text-align: right;\">\n",
       "      <th></th>\n",
       "      <th>user_id</th>\n",
       "      <th>bookmark</th>\n",
       "    </tr>\n",
       "  </thead>\n",
       "  <tbody>\n",
       "    <tr>\n",
       "      <th>1</th>\n",
       "      <td>824</td>\n",
       "      <td>71655</td>\n",
       "    </tr>\n",
       "    <tr>\n",
       "      <th>3</th>\n",
       "      <td>824</td>\n",
       "      <td>72451</td>\n",
       "    </tr>\n",
       "    <tr>\n",
       "      <th>5</th>\n",
       "      <td>824</td>\n",
       "      <td>67257</td>\n",
       "    </tr>\n",
       "    <tr>\n",
       "      <th>7</th>\n",
       "      <td>824</td>\n",
       "      <td>71333</td>\n",
       "    </tr>\n",
       "    <tr>\n",
       "      <th>9</th>\n",
       "      <td>824</td>\n",
       "      <td>71979</td>\n",
       "    </tr>\n",
       "    <tr>\n",
       "      <th>11</th>\n",
       "      <td>824</td>\n",
       "      <td>68078</td>\n",
       "    </tr>\n",
       "    <tr>\n",
       "      <th>13</th>\n",
       "      <td>824</td>\n",
       "      <td>66721</td>\n",
       "    </tr>\n",
       "    <tr>\n",
       "      <th>15</th>\n",
       "      <td>824</td>\n",
       "      <td>69536</td>\n",
       "    </tr>\n",
       "    <tr>\n",
       "      <th>17</th>\n",
       "      <td>824</td>\n",
       "      <td>67044</td>\n",
       "    </tr>\n",
       "    <tr>\n",
       "      <th>19</th>\n",
       "      <td>824</td>\n",
       "      <td>66727</td>\n",
       "    </tr>\n",
       "    <tr>\n",
       "      <th>21</th>\n",
       "      <td>824</td>\n",
       "      <td>67455</td>\n",
       "    </tr>\n",
       "    <tr>\n",
       "      <th>23</th>\n",
       "      <td>824</td>\n",
       "      <td>67513</td>\n",
       "    </tr>\n",
       "    <tr>\n",
       "      <th>25</th>\n",
       "      <td>824</td>\n",
       "      <td>71705</td>\n",
       "    </tr>\n",
       "    <tr>\n",
       "      <th>27</th>\n",
       "      <td>824</td>\n",
       "      <td>72350</td>\n",
       "    </tr>\n",
       "    <tr>\n",
       "      <th>29</th>\n",
       "      <td>824</td>\n",
       "      <td>6178</td>\n",
       "    </tr>\n",
       "  </tbody>\n",
       "</table>\n",
       "</div>"
      ],
      "text/plain": [
       "   user_id bookmark\n",
       "1      824    71655\n",
       "3      824    72451\n",
       "5      824    67257\n",
       "7      824    71333\n",
       "9      824    71979\n",
       "11     824    68078\n",
       "13     824    66721\n",
       "15     824    69536\n",
       "17     824    67044\n",
       "19     824    66727\n",
       "21     824    67455\n",
       "23     824    67513\n",
       "25     824    71705\n",
       "27     824    72350\n",
       "29     824     6178"
      ]
     },
     "execution_count": 56,
     "metadata": {},
     "output_type": "execute_result"
    }
   ],
   "source": [
    "df_res[df_res.user_id == 824]"
   ]
  },
  {
   "cell_type": "code",
   "execution_count": 53,
   "id": "b38c4007",
   "metadata": {
    "ExecuteTime": {
     "end_time": "2022-01-17T12:14:35.987059Z",
     "start_time": "2022-01-17T12:14:35.963065Z"
    }
   },
   "outputs": [],
   "source": [
    "df_res = df_res.iloc[1::2, :]"
   ]
  },
  {
   "cell_type": "code",
   "execution_count": 54,
   "id": "7c82e1fc",
   "metadata": {
    "ExecuteTime": {
     "end_time": "2022-01-17T12:14:40.262003Z",
     "start_time": "2022-01-17T12:14:40.243004Z"
    }
   },
   "outputs": [],
   "source": [
    "df_res.to_csv('bookmarks_clean.csv')"
   ]
  },
  {
   "cell_type": "code",
   "execution_count": null,
   "id": "986f43b3",
   "metadata": {},
   "outputs": [],
   "source": []
  }
 ],
 "metadata": {
  "kernelspec": {
   "display_name": "Python 3 (ipykernel)",
   "language": "python",
   "name": "python3"
  },
  "language_info": {
   "codemirror_mode": {
    "name": "ipython",
    "version": 3
   },
   "file_extension": ".py",
   "mimetype": "text/x-python",
   "name": "python",
   "nbconvert_exporter": "python",
   "pygments_lexer": "ipython3",
   "version": "3.9.7"
  },
  "toc": {
   "base_numbering": 1,
   "nav_menu": {},
   "number_sections": true,
   "sideBar": true,
   "skip_h1_title": false,
   "title_cell": "Table of Contents",
   "title_sidebar": "Contents",
   "toc_cell": false,
   "toc_position": {},
   "toc_section_display": true,
   "toc_window_display": false
  },
  "varInspector": {
   "cols": {
    "lenName": 16,
    "lenType": 16,
    "lenVar": 40
   },
   "kernels_config": {
    "python": {
     "delete_cmd_postfix": "",
     "delete_cmd_prefix": "del ",
     "library": "var_list.py",
     "varRefreshCmd": "print(var_dic_list())"
    },
    "r": {
     "delete_cmd_postfix": ") ",
     "delete_cmd_prefix": "rm(",
     "library": "var_list.r",
     "varRefreshCmd": "cat(var_dic_list()) "
    }
   },
   "types_to_exclude": [
    "module",
    "function",
    "builtin_function_or_method",
    "instance",
    "_Feature"
   ],
   "window_display": false
  }
 },
 "nbformat": 4,
 "nbformat_minor": 5
}
